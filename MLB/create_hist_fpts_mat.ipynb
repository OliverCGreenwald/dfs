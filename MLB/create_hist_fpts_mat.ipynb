{
 "cells": [
  {
   "cell_type": "code",
   "execution_count": 119,
   "metadata": {
    "collapsed": false
   },
   "outputs": [],
   "source": [
    "import pandas as pd\n",
    "import os\n",
    "os.chdir(\"/Users/alandu/Documents/DFS/\")\n",
    "from datetime import datetime, timedelta\n",
    "from pathlib import Path"
   ]
  },
  {
   "cell_type": "code",
   "execution_count": 90,
   "metadata": {
    "collapsed": false
   },
   "outputs": [],
   "source": [
    "# first date\n",
    "date = \"2017-04-02\"\n",
    "\n",
    "results_mat = pd.read_csv(\"MLB/data_warehouse/\" + date + \"/player_results.csv\")\n",
    "results_mat['Name_Team'] = results_mat['Player'] + \"_\" + results_mat['Team']\n",
    "results_mat = results_mat[['Name_Team', 'Actual Score']]\n",
    "results_mat.rename(columns={'Actual Score':date}, inplace = True)\n",
    "results_mat\n",
    "\n",
    "results_mat.to_csv(\"MLB/data_warehouse/\" + \"2017-04-03\" + \"/hist_fpts_mat_update.csv\", index=False, na_rep=\"NA\")"
   ]
  },
  {
   "cell_type": "code",
   "execution_count": 199,
   "metadata": {
    "collapsed": false
   },
   "outputs": [
    {
     "name": "stdout",
     "output_type": "stream",
     "text": [
      "2017-07-10 00:00:00\n",
      "2017-07-08\n",
      "2017-07-14 00:00:00\n",
      "2017-07-10\n",
      "2017-07-11\n",
      "2017-07-12\n",
      "2017-07-17 00:00:00\n",
      "2017-07-15\n",
      "2017-08-09 00:00:00\n",
      "2017-08-07\n"
     ]
    }
   ],
   "source": [
    "# rest of dates\n",
    "date_list = [datetime.strptime(\"2017-04-04\", '%Y-%m-%d') + timedelta(days=x) for x in range(0, 130)]\n",
    "\n",
    "for date in date_list:\n",
    "    file_path_date = Path(\"MLB/data_warehouse/\" + date.strftime('%Y-%m-%d'))\n",
    "    if file_path_date.exists():\n",
    "        date_tm1 = date - timedelta(days=1)\n",
    "        \n",
    "        # read in hist_fpts_mat_update from date t-1\n",
    "        file_path_hist = Path(\"MLB/data_warehouse/\" + date_tm1.strftime('%Y-%m-%d') + \"/hist_fpts_mat_update.csv\")\n",
    "        if file_path_hist.exists():\n",
    "            hist_fpts_mat = pd.read_csv(str(file_path_hist))\n",
    "        else:\n",
    "            # fill in dates where folder is missing\n",
    "            temp_date = date_tm1 - timedelta(days=1)\n",
    "            file_path_hist = Path(\"MLB/data_warehouse/\" + temp_date.strftime('%Y-%m-%d') + \"/hist_fpts_mat_update.csv\")\n",
    "            num_missing = 1\n",
    "            while (file_path_hist.exists() == False):\n",
    "                temp_date = temp_date - timedelta(days=1)\n",
    "                file_path_hist = Path(\"MLB/data_warehouse/\" + temp_date.strftime('%Y-%m-%d') + \"/hist_fpts_mat_update.csv\")\n",
    "                num_missing += 1\n",
    "            hist_fpts_mat = pd.read_csv(str(file_path_hist))\n",
    "            print(date)\n",
    "            for i in range(0,num_missing):\n",
    "                new_column = temp_date + timedelta(days=i+1)\n",
    "                \n",
    "                # add missing date\n",
    "                new_column_m1 = new_column - timedelta(days=1)\n",
    "                print(new_column_m1.strftime('%Y-%m-%d'))\n",
    "                file_path_results = Path(\"MLB/data_warehouse/\" + new_column_m1.strftime('%Y-%m-%d') + \"/player_results.csv\")\n",
    "                if file_path_results.exists():\n",
    "                    results_mat = pd.read_csv(str(file_path_results))\n",
    "                    results_mat['Name_Team'] = results_mat['Player'] + \"_\" + results_mat['Team']\n",
    "                    hist_fpts_mat = hist_fpts_mat.merge(results_mat[['Name_Team', 'Actual Score']], on=\"Name_Team\", how='outer')\n",
    "                    hist_fpts_mat.rename(columns={'Actual Score':new_column_m1.strftime('%Y-%m-%d')}, inplace = True)\n",
    "                elif Path(\"MLB/data_warehouse/\" + new_column_m1.strftime('%Y-%m-%d')).exists():\n",
    "                    hist_fpts_mat[new_column_m1.strftime('%Y-%m-%d')] = float('NaN')\n",
    "                \n",
    "                # add previous dates NA\n",
    "                hist_fpts_mat[new_column.strftime('%Y-%m-%d')] = float('NaN')\n",
    "        \n",
    "        # add fpts for date t\n",
    "        file_path_results = Path(\"MLB/data_warehouse/\" + date_tm1.strftime('%Y-%m-%d') + \"/player_results.csv\")\n",
    "        if file_path_results.exists():\n",
    "            results_mat = pd.read_csv(str(file_path_results))\n",
    "            results_mat['Name_Team'] = results_mat['Player'] + \"_\" + results_mat['Team']\n",
    "\n",
    "            new_hist_fpts_mat = hist_fpts_mat.merge(results_mat[['Name_Team', 'Actual Score']], on=\"Name_Team\", how='outer')\n",
    "            new_hist_fpts_mat.rename(columns={'Actual Score':date_tm1.strftime('%Y-%m-%d')}, inplace = True)\n",
    "        else:\n",
    "            new_hist_fpts_mat = hist_fpts_mat\n",
    "            new_hist_fpts_mat[date_tm1.strftime('%Y-%m-%d')] = float('NaN')\n",
    "        \n",
    "        # write to file\n",
    "        new_hist_fpts_mat.to_csv(str(file_path_date) + \"/hist_fpts_mat_update.csv\", index=False, na_rep=\"NA\")"
   ]
  },
  {
   "cell_type": "code",
   "execution_count": null,
   "metadata": {
    "collapsed": true
   },
   "outputs": [],
   "source": []
  }
 ],
 "metadata": {
  "kernelspec": {
   "display_name": "Python 3",
   "language": "python",
   "name": "python3"
  },
  "language_info": {
   "codemirror_mode": {
    "name": "ipython",
    "version": 3
   },
   "file_extension": ".py",
   "mimetype": "text/x-python",
   "name": "python",
   "nbconvert_exporter": "python",
   "pygments_lexer": "ipython3",
   "version": "3.6.0"
  }
 },
 "nbformat": 4,
 "nbformat_minor": 2
}
